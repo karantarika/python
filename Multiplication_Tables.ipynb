{
  "nbformat": 4,
  "nbformat_minor": 0,
  "metadata": {
    "colab": {
      "name": "Multiplication_Tables.ipynb",
      "version": "0.3.2",
      "provenance": [],
      "collapsed_sections": [],
      "toc_visible": true,
      "include_colab_link": true
    },
    "kernelspec": {
      "display_name": "Python 3",
      "name": "python3"
    }
  },
  "cells": [
    {
      "cell_type": "markdown",
      "metadata": {
        "id": "view-in-github",
        "colab_type": "text"
      },
      "source": [
        "<a href=\"https://colab.research.google.com/github/karantarika/python/blob/master/Multiplication_Tables.ipynb\" target=\"_parent\"><img src=\"https://colab.research.google.com/assets/colab-badge.svg\" alt=\"Open In Colab\"/></a>"
      ]
    },
    {
      "metadata": {
        "id": "QZpd-wke2v5U",
        "colab_type": "text"
      },
      "cell_type": "markdown",
      "source": [
        "**Practice Book**"
      ]
    },
    {
      "metadata": {
        "id": "IpK2xe5625Bq",
        "colab_type": "text"
      },
      "cell_type": "markdown",
      "source": [
        "Multilplication Tables"
      ]
    },
    {
      "metadata": {
        "id": "Wv69P0yw3B2Y",
        "colab_type": "code",
        "outputId": "f75bcd32-f6c3-4a46-8fcd-0481985af00a",
        "colab": {
          "base_uri": "https://localhost:8080/",
          "height": 247
        }
      },
      "cell_type": "code",
      "source": [
        "print(\"Enter a number to print multiplcation tables\")\n",
        "a =int(input(\"\"))\n",
        "print('Table of %d is:' % a)\n",
        "for i in range(1,11,1):\n",
        "    print(a*i)\n",
        "  "
      ],
      "execution_count": 0,
      "outputs": [
        {
          "output_type": "stream",
          "text": [
            "Enter a number to print multiplcation tables\n",
            "3\n",
            "Table of 3 is:\n",
            "3\n",
            "6\n",
            "9\n",
            "12\n",
            "15\n",
            "18\n",
            "21\n",
            "24\n",
            "27\n",
            "30\n"
          ],
          "name": "stdout"
        }
      ]
    }
  ]
}