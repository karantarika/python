{
  "nbformat": 4,
  "nbformat_minor": 0,
  "metadata": {
    "colab": {
      "name": "Blank_Template.ipynb",
      "version": "0.3.2",
      "provenance": [],
      "collapsed_sections": [],
      "toc_visible": true,
      "include_colab_link": true
    },
    "kernelspec": {
      "display_name": "Python 3",
      "name": "python3"
    }
  },
  "cells": [
    {
      "cell_type": "markdown",
      "metadata": {
        "id": "view-in-github",
        "colab_type": "text"
      },
      "source": [
        "<a href=\"https://colab.research.google.com/github/karantarika/python/blob/master/Classes%20and%20Inheritance.ipynb\" target=\"_parent\"><img src=\"https://colab.research.google.com/assets/colab-badge.svg\" alt=\"Open In Colab\"/></a>"
      ]
    },
    {
      "metadata": {
        "id": "QZpd-wke2v5U",
        "colab_type": "text"
      },
      "cell_type": "markdown",
      "source": [
        "**Practice Book**"
      ]
    },
    {
      "metadata": {
        "id": "IpK2xe5625Bq",
        "colab_type": "text"
      },
      "cell_type": "markdown",
      "source": [
        "Classes"
      ]
    },
    {
      "metadata": {
        "id": "ceEPS5ImjWMe",
        "colab_type": "code",
        "colab": {
          "base_uri": "https://localhost:8080/",
          "height": 52
        },
        "outputId": "e3972ae2-29b4-4b23-f79a-b4be58117892"
      },
      "cell_type": "code",
      "source": [
        "class Karan:\n",
        "  def test(a):\n",
        "    print(\"This is the function one\")\n",
        "  def test1(a):\n",
        "    print(\"This is the function two\")\n",
        "Karan = Karan()\n",
        "Karan.test()\n",
        "Karan.test1()\n",
        "    "
      ],
      "execution_count": 5,
      "outputs": [
        {
          "output_type": "stream",
          "text": [
            "This is the function one\n",
            "This is the function two\n"
          ],
          "name": "stdout"
        }
      ]
    },
    {
      "metadata": {
        "id": "QvmGtEsumYqp",
        "colab_type": "text"
      },
      "cell_type": "markdown",
      "source": [
        "Inheritance"
      ]
    },
    {
      "metadata": {
        "id": "rwWReLeymauS",
        "colab_type": "code",
        "colab": {}
      },
      "cell_type": "code",
      "source": [
        "class parents():\n",
        "  def mother(a):\n",
        "    print(\"This has been taken from mother\")    \n",
        "  def father(a):\n",
        "    print(\"This has been taken from father\")\n",
        "p = parents()\n",
        "\n",
        "class child(parents):\n",
        "  def test(a):  \n",
        "    p.mother()\n",
        "    p.father()\n",
        "    test(a)"
      ],
      "execution_count": 0,
      "outputs": []
    }
  ]
}