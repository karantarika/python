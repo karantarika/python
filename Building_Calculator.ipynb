{
  "nbformat": 4,
  "nbformat_minor": 0,
  "metadata": {
    "colab": {
      "name": "Building_Calculator.ipynb",
      "version": "0.3.2",
      "provenance": [],
      "collapsed_sections": [],
      "toc_visible": true,
      "include_colab_link": true
    },
    "kernelspec": {
      "display_name": "Python 3",
      "name": "python3"
    }
  },
  "cells": [
    {
      "cell_type": "markdown",
      "metadata": {
        "id": "view-in-github",
        "colab_type": "text"
      },
      "source": [
        "<a href=\"https://colab.research.google.com/github/karantarika/python/blob/master/Building_Calculator.ipynb\" target=\"_parent\"><img src=\"https://colab.research.google.com/assets/colab-badge.svg\" alt=\"Open In Colab\"/></a>"
      ]
    },
    {
      "metadata": {
        "id": "QZpd-wke2v5U",
        "colab_type": "text"
      },
      "cell_type": "markdown",
      "source": [
        "**Practice Book**"
      ]
    },
    {
      "metadata": {
        "id": "IpK2xe5625Bq",
        "colab_type": "text"
      },
      "cell_type": "markdown",
      "source": [
        "Building Calculator"
      ]
    },
    {
      "metadata": {
        "id": "Wv69P0yw3B2Y",
        "colab_type": "code",
        "outputId": "8631ab93-462a-4579-b6d4-0fac9f0834c1",
        "colab": {
          "base_uri": "https://localhost:8080/",
          "height": 144
        }
      },
      "cell_type": "code",
      "source": [
        "try:\n",
        "  while True:\n",
        "    print(\"Options\")\n",
        "    print(\"Enter 'add' to add two numbers\")\n",
        "    print(\"Enter 'subtract' to subtract two numbers\")\n",
        "    print(\"Enter 'multiply' to multiply two numbers\")\n",
        "    print(\"Enter 'divide' to divide two numbers\")\n",
        "    print(\"Enter 'quit' to end the program\")\n",
        "    user_input = input(\"\")  \n",
        "    if user_input == \"quit\":\n",
        "      break\n",
        "    print(\"Enter the first number:\")\n",
        "    a = float(input(\"\"))\n",
        "    print(\"Enter the second number:\")\n",
        "    b = float(input(\"\"))  \n",
        "    if user_input == \"add\":\n",
        "      print(\"Answer is \",a+b)\n",
        "    elif user_input == \"subtract\":\n",
        "      print(\"Answer is \",a-b)\n",
        "    elif user_input == \"multiply\":\n",
        "      print(\"Answer is \",a*b) \n",
        "    elif user_input == \"divide\":\n",
        "      print(\"Answer is \",a/b)\n",
        "    else:\n",
        "      print(\"Unknown Error\")\n",
        "except ZeroDivisionError:\n",
        "    print(\"An error occured\")\n",
        "    print(\"due to zero division\")\n",
        "\n",
        "    \n",
        "      "
      ],
      "execution_count": 0,
      "outputs": [
        {
          "output_type": "stream",
          "text": [
            "Options\n",
            "Enter 'add' to add two numbers\n",
            "Enter 'subtract' to subtract two numbers\n",
            "Enter 'multiply' to multiply two numbers\n",
            "Enter 'divide' to divide two numbers\n",
            "Enter 'quit' to end the program\n"
          ],
          "name": "stdout"
        }
      ]
    }
  ]
}