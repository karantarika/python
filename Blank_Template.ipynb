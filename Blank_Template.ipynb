{
  "nbformat": 4,
  "nbformat_minor": 0,
  "metadata": {
    "colab": {
      "name": "Blank_Template.ipynb",
      "version": "0.3.2",
      "provenance": [],
      "collapsed_sections": [],
      "toc_visible": true,
      "include_colab_link": true
    },
    "kernelspec": {
      "display_name": "Python 3",
      "name": "python3"
    }
  },
  "cells": [
    {
      "cell_type": "markdown",
      "metadata": {
        "id": "view-in-github",
        "colab_type": "text"
      },
      "source": [
        "<a href=\"https://colab.research.google.com/github/karantarika/python/blob/master/Blank_Template.ipynb\" target=\"_parent\"><img src=\"https://colab.research.google.com/assets/colab-badge.svg\" alt=\"Open In Colab\"/></a>"
      ]
    },
    {
      "metadata": {
        "id": "QZpd-wke2v5U",
        "colab_type": "text"
      },
      "cell_type": "markdown",
      "source": [
        "**Practice Book**"
      ]
    },
    {
      "metadata": {
        "id": "IpK2xe5625Bq",
        "colab_type": "text"
      },
      "cell_type": "markdown",
      "source": [
        "***Add file name:***"
      ]
    }
  ]
}